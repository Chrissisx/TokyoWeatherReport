{
 "cells": [
  {
   "cell_type": "markdown",
   "id": "8598c4ee-8948-4694-9520-730514c0997f",
   "metadata": {},
   "source": [
    "## Análisis de Datos de Temperatura\n",
    "\n",
    "- Fecha: 2024-08-06\n",
    "- Coder: Josefu\n",
    "- Objetivo: realizar la isnpección sobre los datos recolectados a través del API de openweather y usando la configuración de Linux para el registro de los mismos"
   ]
  },
  {
   "cell_type": "code",
   "execution_count": 1,
   "id": "f0d0bfc2-34a5-4757-a1ec-9df5a0bfeda0",
   "metadata": {},
   "outputs": [
    {
     "data": {
      "text/plain": [
       "['CityTemperatureAnalysis.ipynb\\uf03aZone.Identifier',\n",
       " 'clima-tokyo-hoy.csv',\n",
       " 'main.py\\uf03aZone.Identifier',\n",
       " 'proyecto-final.org\\uf03aZone.Identifier',\n",
       " 'clima-tokyo-hoy.csv\\uf03aZone.Identifier',\n",
       " 'get-weather.sh\\uf03aZone.Identifier',\n",
       " 'get-weather.sh',\n",
       " 'main.py',\n",
       " 'README.md',\n",
       " 'README.md\\uf03aZone.Identifier',\n",
       " 'proyecto-final.org',\n",
       " 'clima-tokyo-hoy-etl.csv',\n",
       " 'CityTemperatureAnalysis.ipynb',\n",
       " 'clima-tokyo-hoy-etl.csv\\uf03aZone.Identifier',\n",
       " 'weather-site']"
      ]
     },
     "execution_count": 1,
     "metadata": {},
     "output_type": "execute_result"
    }
   ],
   "source": [
    "import os\n",
    "import pandas as pd\n",
    "os.listdir(os.getcwd())"
   ]
  },
  {
   "cell_type": "markdown",
   "id": "34dc994b-a482-4547-ba89-103c6ba239ff",
   "metadata": {},
   "source": [
    "### Lectura de Datos\n",
    "Lectura del archivo csv con *with open* debido a que openweather coloca valores sobre la lluvia y la nieve cuando éstos están disponibles por lo que en este caso he obtenido 30 campos de lectura obviando los referidos. Esto puede solventarse incluyendo los campos con valor NaN por defecto en el programa de Python para captura de información"
   ]
  },
  {
   "cell_type": "code",
   "execution_count": 2,
   "id": "700273d9-c22f-4ea6-ab55-7dc6bdc9153a",
   "metadata": {},
   "outputs": [
    {
     "data": {
      "text/plain": [
       "43"
      ]
     },
     "execution_count": 2,
     "metadata": {},
     "output_type": "execute_result"
    }
   ],
   "source": [
    "import os\n",
    "import pandas as pd\n",
    "os.listdir(os.getcwd())\n",
    "import csv\n",
    "csv_file = 'clima-tokyo-hoy.csv'\n",
    "filtered_rows = []\n",
    "with open(csv_file, 'r') as f:\n",
    "    reader = csv.reader(f)\n",
    "    for row in reader:\n",
    "        if len(row) <= 30:\n",
    "            filtered_rows.append(row)\n",
    "len(filtered_rows)"
   ]
  },
  {
   "cell_type": "code",
   "execution_count": 3,
   "id": "66dc76fd-502b-4ad9-b899-abe081958038",
   "metadata": {},
   "outputs": [
    {
     "name": "stdout",
     "output_type": "stream",
     "text": [
      "8 42\n"
     ]
    }
   ],
   "source": [
    "header = filtered_rows[0]\n",
    "data = filtered_rows[1:]\n",
    "print(len(header), len(data))"
   ]
  },
  {
   "cell_type": "code",
   "execution_count": 4,
   "id": "533b2090-b313-4088-b0cd-1f150f4dd827",
   "metadata": {},
   "outputs": [
    {
     "data": {
      "text/plain": [
       "(42, 8)"
      ]
     },
     "execution_count": 4,
     "metadata": {},
     "output_type": "execute_result"
    }
   ],
   "source": [
    "# df = pd.read_csv('clima-tokyo-hoy.csv')\n",
    "df = pd.DataFrame(data, columns=header)\n",
    "df.shape"
   ]
  },
  {
   "cell_type": "code",
   "execution_count": 8,
   "id": "85d521b4-b2da-4fba-9d01-88ced55ccc2f",
   "metadata": {},
   "outputs": [
    {
     "data": {
      "text/html": [
       "<div>\n",
       "<style scoped>\n",
       "    .dataframe tbody tr th:only-of-type {\n",
       "        vertical-align: middle;\n",
       "    }\n",
       "\n",
       "    .dataframe tbody tr th {\n",
       "        vertical-align: top;\n",
       "    }\n",
       "\n",
       "    .dataframe thead th {\n",
       "        text-align: right;\n",
       "    }\n",
       "</style>\n",
       "<table border=\"1\" class=\"dataframe\">\n",
       "  <thead>\n",
       "    <tr style=\"text-align: right;\">\n",
       "      <th></th>\n",
       "      <th>fecha_hora</th>\n",
       "      <th>temperatura</th>\n",
       "      <th>humedad</th>\n",
       "      <th>presion</th>\n",
       "      <th>clima</th>\n",
       "      <th>estado_clima</th>\n",
       "      <th>ciudad</th>\n",
       "      <th>pais</th>\n",
       "    </tr>\n",
       "  </thead>\n",
       "  <tbody>\n",
       "    <tr>\n",
       "      <th>16</th>\n",
       "      <td>2024-08-13 18:56:03</td>\n",
       "      <td>31.67</td>\n",
       "      <td>68.0</td>\n",
       "      <td>1008</td>\n",
       "      <td>Clouds</td>\n",
       "      <td>broken clouds</td>\n",
       "      <td>Tokyo</td>\n",
       "      <td>JP</td>\n",
       "    </tr>\n",
       "    <tr>\n",
       "      <th>31</th>\n",
       "      <td>2024-08-13 20:56:02</td>\n",
       "      <td>33.91</td>\n",
       "      <td>64.0</td>\n",
       "      <td>1007</td>\n",
       "      <td>Clouds</td>\n",
       "      <td>broken clouds</td>\n",
       "      <td>Tokyo</td>\n",
       "      <td>JP</td>\n",
       "    </tr>\n",
       "    <tr>\n",
       "      <th>41</th>\n",
       "      <td>2024-08-13 22:08:02</td>\n",
       "      <td>34.20</td>\n",
       "      <td>56.0</td>\n",
       "      <td>1007</td>\n",
       "      <td>Rain</td>\n",
       "      <td>light rain</td>\n",
       "      <td>Tokyo</td>\n",
       "      <td>JP</td>\n",
       "    </tr>\n",
       "    <tr>\n",
       "      <th>5</th>\n",
       "      <td>2024-08-13 17:36:28</td>\n",
       "      <td>31.51</td>\n",
       "      <td>72.0</td>\n",
       "      <td>1008</td>\n",
       "      <td>Clouds</td>\n",
       "      <td>few clouds</td>\n",
       "      <td>Tokyo</td>\n",
       "      <td>JP</td>\n",
       "    </tr>\n",
       "    <tr>\n",
       "      <th>40</th>\n",
       "      <td>2024-08-13 22:00:02</td>\n",
       "      <td>34.26</td>\n",
       "      <td>57.0</td>\n",
       "      <td>1007</td>\n",
       "      <td>Rain</td>\n",
       "      <td>light rain</td>\n",
       "      <td>Tokyo</td>\n",
       "      <td>JP</td>\n",
       "    </tr>\n",
       "    <tr>\n",
       "      <th>36</th>\n",
       "      <td>2024-08-13 21:32:02</td>\n",
       "      <td>33.94</td>\n",
       "      <td>62.0</td>\n",
       "      <td>1007</td>\n",
       "      <td>Rain</td>\n",
       "      <td>light rain</td>\n",
       "      <td>Tokyo</td>\n",
       "      <td>JP</td>\n",
       "    </tr>\n",
       "    <tr>\n",
       "      <th>33</th>\n",
       "      <td>2024-08-13 21:08:02</td>\n",
       "      <td>34.14</td>\n",
       "      <td>61.0</td>\n",
       "      <td>1007</td>\n",
       "      <td>Clouds</td>\n",
       "      <td>few clouds</td>\n",
       "      <td>Tokyo</td>\n",
       "      <td>JP</td>\n",
       "    </tr>\n",
       "    <tr>\n",
       "      <th>20</th>\n",
       "      <td>2024-08-13 19:24:01</td>\n",
       "      <td>32.12</td>\n",
       "      <td>69.0</td>\n",
       "      <td>1008</td>\n",
       "      <td>Clouds</td>\n",
       "      <td>scattered clouds</td>\n",
       "      <td>Tokyo</td>\n",
       "      <td>JP</td>\n",
       "    </tr>\n",
       "    <tr>\n",
       "      <th>18</th>\n",
       "      <td>2024-08-13 19:08:02</td>\n",
       "      <td>31.67</td>\n",
       "      <td>68.0</td>\n",
       "      <td>1008</td>\n",
       "      <td>Clouds</td>\n",
       "      <td>broken clouds</td>\n",
       "      <td>Tokyo</td>\n",
       "      <td>JP</td>\n",
       "    </tr>\n",
       "    <tr>\n",
       "      <th>37</th>\n",
       "      <td>2024-08-13 21:40:02</td>\n",
       "      <td>33.68</td>\n",
       "      <td>62.0</td>\n",
       "      <td>1007</td>\n",
       "      <td>Rain</td>\n",
       "      <td>light rain</td>\n",
       "      <td>Tokyo</td>\n",
       "      <td>JP</td>\n",
       "    </tr>\n",
       "  </tbody>\n",
       "</table>\n",
       "</div>"
      ],
      "text/plain": [
       "             fecha_hora  temperatura  humedad  presion   clima  \\\n",
       "16  2024-08-13 18:56:03        31.67     68.0     1008  Clouds   \n",
       "31  2024-08-13 20:56:02        33.91     64.0     1007  Clouds   \n",
       "41  2024-08-13 22:08:02        34.20     56.0     1007    Rain   \n",
       "5   2024-08-13 17:36:28        31.51     72.0     1008  Clouds   \n",
       "40  2024-08-13 22:00:02        34.26     57.0     1007    Rain   \n",
       "36  2024-08-13 21:32:02        33.94     62.0     1007    Rain   \n",
       "33  2024-08-13 21:08:02        34.14     61.0     1007  Clouds   \n",
       "20  2024-08-13 19:24:01        32.12     69.0     1008  Clouds   \n",
       "18  2024-08-13 19:08:02        31.67     68.0     1008  Clouds   \n",
       "37  2024-08-13 21:40:02        33.68     62.0     1007    Rain   \n",
       "\n",
       "        estado_clima ciudad pais  \n",
       "16     broken clouds  Tokyo   JP  \n",
       "31     broken clouds  Tokyo   JP  \n",
       "41        light rain  Tokyo   JP  \n",
       "5         few clouds  Tokyo   JP  \n",
       "40        light rain  Tokyo   JP  \n",
       "36        light rain  Tokyo   JP  \n",
       "33        few clouds  Tokyo   JP  \n",
       "20  scattered clouds  Tokyo   JP  \n",
       "18     broken clouds  Tokyo   JP  \n",
       "37        light rain  Tokyo   JP  "
      ]
     },
     "execution_count": 8,
     "metadata": {},
     "output_type": "execute_result"
    }
   ],
   "source": [
    "df.sample(10)"
   ]
  },
  {
   "cell_type": "markdown",
   "id": "c7b78457-4791-4ca8-8119-d80f8f4eded6",
   "metadata": {},
   "source": [
    "### Análisis de Datos\n",
    "- Se procede a realizar un plot de variables de interés según el tiempo capturado. La primera columna contiene la información del API sobre tiempo en formato **Timestamp**, misma que se puede convertir a **datetime**.\n",
    "- Debido al proceso utilizado para guardar los datos `dt` tiene como tipo de dato objeto por lo que es necesario convertirlo a entero. De igual manera existen otras variables capturadas que en este caso por la lectura con `with open` se detectan como object en vez de sus tipos de datos correctos\n"
   ]
  },
  {
   "cell_type": "code",
   "execution_count": 6,
   "id": "f26cfd90-e163-4b6a-9d46-c72950917ead",
   "metadata": {},
   "outputs": [
    {
     "name": "stdout",
     "output_type": "stream",
     "text": [
      "<class 'pandas.core.frame.DataFrame'>\n",
      "RangeIndex: 42 entries, 0 to 41\n",
      "Data columns (total 8 columns):\n",
      " #   Column        Non-Null Count  Dtype \n",
      "---  ------        --------------  ----- \n",
      " 0   fecha_hora    42 non-null     object\n",
      " 1   temperatura   42 non-null     object\n",
      " 2   humedad       42 non-null     object\n",
      " 3   presion       42 non-null     object\n",
      " 4   clima         42 non-null     object\n",
      " 5   estado_clima  42 non-null     object\n",
      " 6   ciudad        42 non-null     object\n",
      " 7   pais          42 non-null     object\n",
      "dtypes: object(8)\n",
      "memory usage: 2.8+ KB\n"
     ]
    }
   ],
   "source": [
    "df.info()"
   ]
  },
  {
   "cell_type": "code",
   "execution_count": 7,
   "id": "67325379-1ad6-40d6-a46e-9d980005837e",
   "metadata": {},
   "outputs": [],
   "source": [
    "df.presion = df.presion.astype(int)\n",
    "df.temperatura = df.temperatura.astype(float)\n",
    "df.humedad = df.humedad.astype(float)\n",
    "for column in df.columns:\n",
    "    try:\n",
    "        df[column] = pd.to_numeric(df[column])\n",
    "    except ValueError:\n",
    "        next"
   ]
  },
  {
   "cell_type": "code",
   "execution_count": 37,
   "id": "86a5941b-e1dc-44a8-925e-6a000d14e6bf",
   "metadata": {},
   "outputs": [
    {
     "name": "stdout",
     "output_type": "stream",
     "text": [
      "<class 'pandas.core.frame.DataFrame'>\n",
      "RangeIndex: 42 entries, 0 to 41\n",
      "Data columns (total 8 columns):\n",
      " #   Column        Non-Null Count  Dtype  \n",
      "---  ------        --------------  -----  \n",
      " 0   fecha_hora    42 non-null     object \n",
      " 1   temperatura   42 non-null     float64\n",
      " 2   humedad       42 non-null     float64\n",
      " 3   presion       42 non-null     int64  \n",
      " 4   clima         42 non-null     object \n",
      " 5   estado_clima  42 non-null     object \n",
      " 6   ciudad        42 non-null     object \n",
      " 7   pais          42 non-null     object \n",
      "dtypes: float64(2), int64(1), object(5)\n",
      "memory usage: 2.8+ KB\n"
     ]
    }
   ],
   "source": [
    "df.info(5)"
   ]
  },
  {
   "cell_type": "code",
   "execution_count": 2,
   "id": "33a57a27-7d27-43a0-a73e-f57d2e545a34",
   "metadata": {},
   "outputs": [
    {
     "ename": "NameError",
     "evalue": "name 'df' is not defined",
     "output_type": "error",
     "traceback": [
      "\u001b[1;31m---------------------------------------------------------------------------\u001b[0m",
      "\u001b[1;31mNameError\u001b[0m                                 Traceback (most recent call last)",
      "Cell \u001b[1;32mIn[2], line 2\u001b[0m\n\u001b[0;32m      1\u001b[0m \u001b[38;5;28;01mfrom\u001b[39;00m \u001b[38;5;21;01mdatetime\u001b[39;00m \u001b[38;5;28;01mimport\u001b[39;00m datetime\n\u001b[1;32m----> 2\u001b[0m df_etl \u001b[38;5;241m=\u001b[39m \u001b[43mdf\u001b[49m\u001b[38;5;241m.\u001b[39mcopy()\n\u001b[0;32m      3\u001b[0m df_etl\u001b[38;5;241m.\u001b[39msample(\u001b[38;5;241m5\u001b[39m)\n",
      "\u001b[1;31mNameError\u001b[0m: name 'df' is not defined"
     ]
    }
   ],
   "source": [
    "from datetime import datetime\n",
    "df_etl = df.copy()\n",
    "df_etl.sample()"
   ]
  },
  {
   "cell_type": "markdown",
   "id": "ae636bdf-042d-4e05-b489-f5ebee6d5beb",
   "metadata": {},
   "source": [
    "Generalmente es de interés realizar un breve análisis estadístico de las variables del dataset"
   ]
  },
  {
   "cell_type": "code",
   "execution_count": 39,
   "id": "d57234c2-64b9-466d-91ab-9e6e16a5a9f9",
   "metadata": {},
   "outputs": [
    {
     "data": {
      "text/html": [
       "<div>\n",
       "<style scoped>\n",
       "    .dataframe tbody tr th:only-of-type {\n",
       "        vertical-align: middle;\n",
       "    }\n",
       "\n",
       "    .dataframe tbody tr th {\n",
       "        vertical-align: top;\n",
       "    }\n",
       "\n",
       "    .dataframe thead th {\n",
       "        text-align: right;\n",
       "    }\n",
       "</style>\n",
       "<table border=\"1\" class=\"dataframe\">\n",
       "  <thead>\n",
       "    <tr style=\"text-align: right;\">\n",
       "      <th></th>\n",
       "      <th>count</th>\n",
       "      <th>mean</th>\n",
       "      <th>std</th>\n",
       "      <th>min</th>\n",
       "      <th>25%</th>\n",
       "      <th>50%</th>\n",
       "      <th>75%</th>\n",
       "      <th>max</th>\n",
       "    </tr>\n",
       "  </thead>\n",
       "  <tbody>\n",
       "    <tr>\n",
       "      <th>temperatura</th>\n",
       "      <td>42.0</td>\n",
       "      <td>32.600238</td>\n",
       "      <td>1.296140</td>\n",
       "      <td>29.96</td>\n",
       "      <td>31.6175</td>\n",
       "      <td>32.135</td>\n",
       "      <td>33.91</td>\n",
       "      <td>34.5</td>\n",
       "    </tr>\n",
       "    <tr>\n",
       "      <th>humedad</th>\n",
       "      <td>42.0</td>\n",
       "      <td>67.285714</td>\n",
       "      <td>5.726642</td>\n",
       "      <td>56.00</td>\n",
       "      <td>62.5000</td>\n",
       "      <td>68.000</td>\n",
       "      <td>72.00</td>\n",
       "      <td>78.0</td>\n",
       "    </tr>\n",
       "    <tr>\n",
       "      <th>presion</th>\n",
       "      <td>42.0</td>\n",
       "      <td>1007.690476</td>\n",
       "      <td>0.467901</td>\n",
       "      <td>1007.00</td>\n",
       "      <td>1007.0000</td>\n",
       "      <td>1008.000</td>\n",
       "      <td>1008.00</td>\n",
       "      <td>1008.0</td>\n",
       "    </tr>\n",
       "  </tbody>\n",
       "</table>\n",
       "</div>"
      ],
      "text/plain": [
       "             count         mean       std      min        25%       50%  \\\n",
       "temperatura   42.0    32.600238  1.296140    29.96    31.6175    32.135   \n",
       "humedad       42.0    67.285714  5.726642    56.00    62.5000    68.000   \n",
       "presion       42.0  1007.690476  0.467901  1007.00  1007.0000  1008.000   \n",
       "\n",
       "                 75%     max  \n",
       "temperatura    33.91    34.5  \n",
       "humedad        72.00    78.0  \n",
       "presion      1008.00  1008.0  "
      ]
     },
     "execution_count": 39,
     "metadata": {},
     "output_type": "execute_result"
    }
   ],
   "source": [
    "df_etl.describe().transpose()"
   ]
  },
  {
   "cell_type": "code",
   "execution_count": 40,
   "id": "27fade28-37fd-475d-a070-d1893a109a44",
   "metadata": {},
   "outputs": [],
   "source": [
    "df_etl.to_csv('clima-tokyo-hoy-etl.csv', index=False)"
   ]
  },
  {
   "cell_type": "markdown",
   "id": "2d6ad91d-07e0-469d-9ceb-0b321708f067",
   "metadata": {},
   "source": [
    "### Presentación de Resultados\n",
    "\n",
    "Se procede a realizar gráficas de interés para estudiar el comportamiento climatológico"
   ]
  },
  {
   "cell_type": "code",
   "execution_count": 41,
   "id": "059d79c2-d08e-4b33-abc9-8d8f8a93c22b",
   "metadata": {},
   "outputs": [
    {
     "data": {
      "text/plain": [
       "Text(0.5, 1.0, 'Main Temp vs Time in Tokyo')"
      ]
     },
     "execution_count": 41,
     "metadata": {},
     "output_type": "execute_result"
    },
    {
     "data": {
      "image/png": "[encoded data removed]",
      "text/plain": [
       "<Figure size 640x480 with 1 Axes>"
      ]
     },
     "metadata": {},
     "output_type": "display_data"
    }
   ],
   "source": [
    "import matplotlib.pyplot as plt\n",
    "\n",
    "df_etl.plot.line('fecha_hora', 'temperatura')\n",
    "plt.grid()\n",
    "plt.xticks(rotation=40) # rotación de las etiquetas 40°\n",
    "plt.title(f'Main Temp vs Time in {next(iter(set(df_etl.ciudad)))}')\n"
   ]
  },
  {
   "cell_type": "code",
   "execution_count": 42,
   "id": "8bf3243b-bc62-496a-b495-6cc6de15dc62",
   "metadata": {},
   "outputs": [],
   "source": [
    "#import plotly_express as px\n",
    "#fig = px.line(df_etl, x='dt', y=['temperatura', 'humedad'], title=f\"Main Tem & Humidity vs Time in {next(iter(set(df_etl.ciudad)))}\")\n",
    "#fig.show()"
   ]
  },
  {
   "cell_type": "code",
   "execution_count": 43,
   "id": "1224ed5a-ff87-45b0-bf8d-f9930a16c595",
   "metadata": {},
   "outputs": [
    {
     "data": {
      "image/png": "[encoded data removed]",
      "text/plain": [
       "<Figure size 640x480 with 1 Axes>"
      ]
     },
     "metadata": {},
     "output_type": "display_data"
    }
   ],
   "source": [
    "df_etl.temperatura.hist(bins=20)\n",
    "plt.title(f'Histogram of Main Temp in {next(iter(set(df_etl.ciudad)))}')\n",
    "plt.grid()"
   ]
  },
  {
   "cell_type": "code",
   "execution_count": 44,
   "id": "862de5d6-2270-4540-a8fa-d2e404a2d3cf",
   "metadata": {},
   "outputs": [],
   "source": [
    "#fig = px.violin(df_etl, 'temperatura', title=f\"Violin Plot Main Temp in {next(iter(set(df_etl.ciudad)))}\")\n",
    "#fig.show()"
   ]
  },
  {
   "cell_type": "code",
   "execution_count": 45,
   "id": "cb9b9ebc-b73b-4321-a7e3-fe708ac1883d",
   "metadata": {},
   "outputs": [
    {
     "data": {
      "image/png": "[encoded data removed]",
      "text/plain": [
       "<Figure size 800x600 with 1 Axes>"
      ]
     },
     "metadata": {},
     "output_type": "display_data"
    }
   ],
   "source": [
    "fig = plt.figure(figsize=(8,6))\n",
    "plt.plot(df_etl['fecha_hora'], df_etl['temperatura'])\n",
    "plt.grid()\n",
    "plt.title(f'Main Temp vs Time in {next(iter(set(df_etl.ciudad)))}')\n",
    "plt.xticks(rotation=40) # rotación de las etiquetas 40°\n",
    "fig.tight_layout()\n",
    "fname = '/home/josefu/TokyoWeatherReport/weather-site/content/images/temperature.pdf'\n",
    "plt.savefig(fname)\n"
   ]
  },
  {
   "cell_type": "code",
   "execution_count": 46,
   "id": "c05ab530-f3eb-4295-be41-05d3836596f9",
   "metadata": {},
   "outputs": [],
   "source": [
    "#+begin_src python :results graphics file output :file boxplot.svg\n",
    "#import matplotlib.pyplot as plt\n",
    "#import seaborn as sns\n",
    "#plt.figure(figsize=(5, 5))\n",
    "#tips = sns.load_dataset(\"tips\")\n",
    "#sns.boxplot(x=\"day\", y=\"tip\", data=tips)\n",
    "#+end_src"
   ]
  },
  {
   "cell_type": "code",
   "execution_count": null,
   "id": "8e235357-b0bf-4f60-a41d-553076467f93",
   "metadata": {},
   "outputs": [],
   "source": []
  },
  {
   "cell_type": "code",
   "execution_count": null,
   "id": "ea7b5d78-5b79-46c3-8060-bb448ab47586",
   "metadata": {},
   "outputs": [],
   "source": []
  },
  {
   "cell_type": "code",
   "execution_count": null,
   "id": "5ed8f4e4-87ca-4413-84d7-eefe1aeb2a6c",
   "metadata": {},
   "outputs": [],
   "source": []
  },
  {
   "cell_type": "code",
   "execution_count": null,
   "id": "20f15a00-5d6c-4484-97a1-c07efce8a492",
   "metadata": {},
   "outputs": [],
   "source": []
  }
 ],
 "metadata": {
  "kernelspec": {
   "display_name": "Python 3 (ipykernel)",
   "language": "python",
   "name": "python3"
  },
  "language_info": {
   "codemirror_mode": {
    "name": "ipython",
    "version": 3
   },
   "file_extension": ".py",
   "mimetype": "text/x-python",
   "name": "python",
   "nbconvert_exporter": "python",
   "pygments_lexer": "ipython3",
   "version": "3.12.5"
  }
 },
 "nbformat": 4,
 "nbformat_minor": 5
}
